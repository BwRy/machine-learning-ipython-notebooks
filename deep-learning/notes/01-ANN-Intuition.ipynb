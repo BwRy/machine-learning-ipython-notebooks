{
 "cells": [
  {
   "cell_type": "markdown",
   "metadata": {
    "toc": "true"
   },
   "source": [
    "# Table of Contents\n",
    " <p><div class=\"lev1\"><a href=\"#ANN-Intuition\">ANN Intuition</a></div><div class=\"lev2\"><a href=\"#The-Neuron\">The Neuron</a></div><div class=\"lev2\"><a href=\"#The-Activation-Function\">The Activation Function</a></div><div class=\"lev2\"><a href=\"#How-do-NNs-work?\">How do NNs work?</a></div>"
   ]
  },
  {
   "cell_type": "markdown",
   "metadata": {},
   "source": [
    "# ANN Intuition\n",
    "\n",
    "Credit: [Deep Learning A-Z™: Hands-On Artificial Neural Networks](https://www.udemy.com/deeplearning/learn/v4/content)"
   ]
  },
  {
   "cell_type": "markdown",
   "metadata": {},
   "source": [
    "## The Neuron"
   ]
  },
  {
   "cell_type": "markdown",
   "metadata": {},
   "source": [
    "<img src=\"./images/Screen Shot 2017-06-11 at 10.26.10 PM.png\">"
   ]
  },
  {
   "cell_type": "markdown",
   "metadata": {},
   "source": [
    "__The Neuron__ contains:\n",
    "    - Neuron\n",
    "    - Dendrites: receiver of the neuron\n",
    "    - Axon: transmitter of the signal for the neuron\n",
    "    \n",
    "How can we represent neuron in machine?\n",
    "- Input signal: Dendrites\n",
    "- Output signal: Axon\n",
    "- Input values, their signals pass through Synapse to Neuron, then the neuron has an output value."
   ]
  },
  {
   "cell_type": "markdown",
   "metadata": {},
   "source": [
    "<img src=\"./images/Screen Shot 2017-06-11 at 10.39.38 PM.png\">\n",
    "\n",
    "- Input layer:\n",
    "    - Receive all input values (independent variables). These independent variables are all for 1 single observation (1 row of all values: age, bank amount, ...)\n",
    "    - You should standardize these input values.\n",
    "    \n",
    "- Output value: can be\n",
    "    - Continous (price)\n",
    "    - Binary\n",
    "    - Categorical"
   ]
  },
  {
   "cell_type": "markdown",
   "metadata": {},
   "source": [
    "<img src=\"./images/Screen Shot 2017-06-11 at 10.46.10 PM.png\">\n",
    "\n",
    "Weights: are how neural networks learn. \n",
    "- By adjusting the weights, the neural network decides for every single case which signal is important, and which one is not.\n",
    "- Weights are adjusted through the process of learning.\n",
    "\n",
    "What happen inside the Neuron?\n",
    "- 1st step: $\\sum_{i=1}^m w_i x_i$, takes the weighted sum of all the input values.\n",
    "- 2nd step: apply the activation function ($\\phi$) to the weighted sum.\n",
    "- 3rd step: the neuron passes the signal to the next neuron down the line"
   ]
  },
  {
   "cell_type": "markdown",
   "metadata": {},
   "source": [
    "## The Activation Function"
   ]
  },
  {
   "cell_type": "markdown",
   "metadata": {},
   "source": [
    "There are more activation fucntions, but we are going to look at 4 different types of activation function.\n",
    "\n",
    "__Threshold function__\n",
    "\n",
    "<img src=\"./images/Screen Shot 2017-06-11 at 9.59.29 PM.png\">\n",
    "\n",
    "- If the value is less than 0, then the Threshold function passes on 0.\n",
    "- If the value is more than or equal to 0, then the Threshold function passes on 1.\n",
    "- basically yes/no type of function"
   ]
  },
  {
   "cell_type": "markdown",
   "metadata": {},
   "source": [
    "__Sigmoid function__\n",
    "\n",
    "<img src=\"./images/Screen Shot 2017-06-11 at 10.00.37 PM.png\">\n",
    "\n",
    "- a smooth function\n",
    "- very useful in the output layer when we try to predict probabilities."
   ]
  },
  {
   "cell_type": "markdown",
   "metadata": {},
   "source": [
    "__Rectifier__\n",
    "\n",
    "<img src=\"./images/Screen Shot 2017-06-11 at 10.06.12 PM.png\">\n",
    "\n",
    "- mostly used, very popular."
   ]
  },
  {
   "cell_type": "markdown",
   "metadata": {},
   "source": [
    "__Hyperbolic Tangent (tanh)__\n",
    "\n",
    "<img src=\"./images/Screen Shot 2017-06-11 at 10.07.22 PM.png\">\n",
    "\n",
    "- similar to sigmoid function, but goes below 0 to -1"
   ]
  },
  {
   "cell_type": "markdown",
   "metadata": {},
   "source": [
    "Example: Assuming the dependent variable is binary (y=0 or 1), which activation function can we use? We have 2 options:\n",
    "    - Threshold function: It fits perfect when we need 0 or 1\n",
    "    - Sigmoid function: between 0 and 1, gives us the probability of 0 and 1.\n",
    "<img src=\"./images/Screen Shot 2017-06-11 at 10.12.41 PM.png\">\n",
    "\n",
    "- We have a very common combination where:\n",
    "    - Hidden layer: use rectifier function\n",
    "    - Output layer: use sigmoid function to give us the probabilities\n",
    "<img src=\"./images/Screen Shot 2017-06-11 at 10.59.53 PM.png\">"
   ]
  },
  {
   "cell_type": "markdown",
   "metadata": {},
   "source": [
    "## How do NNs work?"
   ]
  },
  {
   "cell_type": "code",
   "execution_count": null,
   "metadata": {
    "collapsed": true
   },
   "outputs": [],
   "source": []
  }
 ],
 "metadata": {
  "kernelspec": {
   "display_name": "Python 3",
   "language": "python",
   "name": "python3"
  },
  "language_info": {
   "codemirror_mode": {
    "name": "ipython",
    "version": 3
   },
   "file_extension": ".py",
   "mimetype": "text/x-python",
   "name": "python",
   "nbconvert_exporter": "python",
   "pygments_lexer": "ipython3",
   "version": "3.5.2"
  },
  "toc": {
   "toc_cell": true,
   "toc_number_sections": false,
   "toc_threshold": "8",
   "toc_window_display": true
  }
 },
 "nbformat": 4,
 "nbformat_minor": 2
}
